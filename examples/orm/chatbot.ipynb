{
 "cells": [
  {
   "cell_type": "code",
   "execution_count": null,
   "id": "a1a620fb-7fbd-4865-933c-4827cb103993",
   "metadata": {},
   "outputs": [],
   "source": [
    "pip install pymilvus llama-index-vector-stores-milvus llama-index"
   ]
  },
  {
   "cell_type": "code",
   "execution_count": null,
   "id": "eba4796f-d56c-4d74-86d1-8640d4432ad5",
   "metadata": {},
   "outputs": [],
   "source": [
    "mkdir -p data\n",
    "wget https://raw.githubusercontent.com/run-llama/llama_index/main/docs/docs/examples/data/paul_graham/paul_graham_essay.txt -O data/paul_graham_essay.txt\n",
    "wget https://raw.githubusercontent.com/run-llama/llama_index/main/docs/docs/examples/data/10k/uber_2021.pdf -O data/uber_2021.pdf"
   ]
  },
  {
   "cell_type": "code",
   "execution_count": null,
   "id": "15b197ca-4616-43fb-b4ac-61fbe9205bd1",
   "metadata": {},
   "outputs": [],
   "source": [
    "import openai\n",
    "\n",
    "openai.api_key = \"sk-********\""
   ]
  },
  {
   "cell_type": "code",
   "execution_count": null,
   "id": "f36e47e5-f680-4655-a5dc-99e497eec3e4",
   "metadata": {},
   "outputs": [],
   "source": [
    "from llama_index.core import SimpleDirectoryReader\n",
    "\n",
    "# load documents\n",
    "documents = SimpleDirectoryReader(\n",
    "    input_files=[\"./data/paul_graham_essay.txt\"]\n",
    ").load_data()\n",
    "\n",
    "print(\"Document ID:\", documents[0].doc_id)"
   ]
  },
  {
   "cell_type": "code",
   "execution_count": null,
   "id": "acd44d4d-dcd1-4cae-995a-562d089b7a7b",
   "metadata": {},
   "outputs": [],
   "source": [
    "# Create an index over the documents\n",
    "from llama_index.core import VectorStoreIndex, StorageContext\n",
    "from llama_index.vector_stores.milvus import MilvusVectorStore\n",
    "\n",
    "vector_store = MilvusVectorStore(uri=\"./milvus_demo.db\", dim=1536, overwrite=True)\n",
    "storage_context = StorageContext.from_defaults(vector_store=vector_store)\n",
    "index = VectorStoreIndex.from_documents(documents, storage_context=storage_context)"
   ]
  },
  {
   "cell_type": "code",
   "execution_count": null,
   "id": "980e10b2-6b37-4e84-a6bc-e50f2ac7c033",
   "metadata": {},
   "outputs": [],
   "source": [
    "query_engine = index.as_query_engine()\n",
    "res = query_engine.query(\"Who is the author?\")\n",
    "print(res)"
   ]
  },
  {
   "cell_type": "code",
   "execution_count": null,
   "id": "9cf22984-fbc8-498d-a7b6-6398ca2a1560",
   "metadata": {},
   "outputs": [],
   "source": [
    "res = query_engine.query(\"What did the author learn?\")\n",
    "print(res)"
   ]
  },
  {
   "cell_type": "code",
   "execution_count": null,
   "id": "99aab870-a5fc-4b93-9dd8-4d78b567e7e2",
   "metadata": {},
   "outputs": [],
   "source": [
    "res = query_engine.query(\"What challenges did the disease pose for the author?\")\n",
    "print(res)"
   ]
  },
  {
   "cell_type": "code",
   "execution_count": null,
   "id": "63b4d62b-0c1d-4699-923f-60dc20f08ca9",
   "metadata": {},
   "outputs": [],
   "source": [
    " from llama_index.core.vector_stores import ExactMatchFilter, MetadataFilters\n",
    "\n",
    "# Load all the two documents loaded before\n",
    "documents_all = SimpleDirectoryReader(\"./data/\").load_data()\n",
    "\n",
    "vector_store = MilvusVectorStore(uri=\"./milvus_demo.db\", dim=1536, overwrite=True)\n",
    "storage_context = StorageContext.from_defaults(vector_store=vector_store)\n",
    "index = VectorStoreIndex.from_documents(documents_all, storage_context)"
   ]
  },
  {
   "cell_type": "code",
   "execution_count": null,
   "id": "0bde4eb1-fb3d-45d7-8738-67074b56847e",
   "metadata": {},
   "outputs": [],
   "source": [
    "filters = MetadataFilters(\n",
    "    filters=[ExactMatchFilter(key=\"file_name\", value=\"uber_2021.pdf\")]\n",
    ")\n",
    "query_engine = index.as_query_engine(filters=filters)\n",
    "res = query_engine.query(\"What challenges did the disease pose for the author?\")\n",
    "print(res)"
   ]
  },
  {
   "cell_type": "code",
   "execution_count": null,
   "id": "ae901bf6-4cec-4185-bba5-8af7723bc525",
   "metadata": {},
   "outputs": [],
   "source": [
    "filters = MetadataFilters(\n",
    "    filters=[ExactMatchFilter(key=\"file_name\", value=\"paul_graham_essay.txt\")]\n",
    ")\n",
    "query_engine = index.as_query_engine(filters=filters)\n",
    "res = query_engine.query(\"Who is the author?\")\n",
    "print(res)"
   ]
  },
  {
   "cell_type": "code",
   "execution_count": null,
   "id": "3d2563f6-1098-4add-8a88-37866f99728c",
   "metadata": {},
   "outputs": [],
   "source": [
    "res = query_engine.query(\"What challenges did the disease pose for the author?\")\n",
    "print(res)"
   ]
  },
  {
   "cell_type": "code",
   "execution_count": null,
   "id": "62d4fd0b-ad73-4e5e-96df-53c48912ad66",
   "metadata": {},
   "outputs": [],
   "source": []
  }
 ],
 "metadata": {
  "kernelspec": {
   "display_name": "Python 3 (ipykernel)",
   "language": "python",
   "name": "python3"
  },
  "language_info": {
   "codemirror_mode": {
    "name": "ipython",
    "version": 3
   },
   "file_extension": ".py",
   "mimetype": "text/x-python",
   "name": "python",
   "nbconvert_exporter": "python",
   "pygments_lexer": "ipython3",
   "version": "3.11.0"
  }
 },
 "nbformat": 4,
 "nbformat_minor": 5
}
